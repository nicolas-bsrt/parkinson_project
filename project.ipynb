{
 "cells": [
  {
   "cell_type": "code",
   "execution_count": 2,
   "id": "4b729a1a",
   "metadata": {
    "ExecuteTime": {
     "end_time": "2023-10-19T15:49:11.252571900Z",
     "start_time": "2023-10-19T15:49:06.487776600Z"
    }
   },
   "outputs": [],
   "source": [
    "import numpy as np\n",
    "import scipy\n",
    "import scipy.signal \n",
    "import h5py\n",
    "import matplotlib.pyplot as plt\n"
   ]
  },
  {
   "cell_type": "code",
   "execution_count": 3,
   "id": "bec226c5",
   "metadata": {
    "ExecuteTime": {
     "end_time": "2023-10-19T15:49:12.508362100Z",
     "start_time": "2023-10-19T15:49:12.429448600Z"
    }
   },
   "outputs": [
    {
     "name": "stdout",
     "output_type": "stream",
     "text": [
      "ActivPark\n",
      "<KeysViewHDF5 ['L23_Beat_cycl', 'L23_Beta_EEG', 'L23_EEGipsi', 'L23_Pr18_c08', 'L23_Pr20_c09', 'L23_Pr20_c0A', 'L23_Pr20_c0B', 'L23_Pr23_c0E', 'L23_Pr25_c10', 'L23_Pr25_c11', 'L23_Pr26_c12', 'L23_SS_Pr_1', 'L23_SS_Pr_11', 'L23_SS_Pr_17', 'L23_SS_Pr_21', 'L23_SS_Pr_22', 'L23_SS_Pr_3', 'L23_SS_Pr_7', 'L23_SS_Pr_9']>\n",
      "SWAPark\n",
      "<KeysViewHDF5 ['L23_EEGipsi', 'L23_Pr20_c09', 'L23_Pr20_c0A', 'L23_Pr20_c0B', 'L23_Pr23_c0E', 'L23_Pr23_c0F', 'L23_Pr25_c10', 'L23_Pr25_c11', 'L23_SS_Pr_1', 'L23_SS_Pr_11', 'L23_SS_Pr_17', 'L23_SS_Pr_21', 'L23_SS_Pr_22', 'L23_SS_Pr_7']>\n",
      "ActivCtl\n",
      "<KeysViewHDF5 ['A9_EEGipsi', 'A9_P2021_c10', 'A9_P2021_c11', 'A9_Pr10_c0C', 'A9_Pr10_c0D', 'A9_Pr10_c0E', 'A9_Pr17_c01', 'A9_Pr17_c10', 'A9_Pr1_c01', 'A9_Pr22_c12', 'A9_Pr22_c13', 'A9_Pr2_c02', 'A9_Pr2_c1B', 'A9_Pr6_c05', 'A9_Pr8_c07', 'A9_Pr8_c08', 'A9_SS_Pr_25', 'A9_SS_Pr_3', 'A9_SS_Pr_4', 'A9_SS_Pr_9']>\n",
      "SWACtl\n",
      "<KeysViewHDF5 ['A9_EEGipsi', 'A9_P2021_c10', 'A9_P2021_c11', 'A9_Pr10_c0C', 'A9_Pr10_c0D', 'A9_Pr10_c0E', 'A9_Pr1_c01', 'A9_Pr22_c12', 'A9_Pr22_c13', 'A9_Pr8_c07', 'A9_Pr8_c08', 'A9_Pr9_c09', 'A9_Pr9_c0A', 'A9_Pr9_c0B', 'A9_SS_Pr_11', 'A9_SS_Pr_2', 'A9_SS_Pr_25', 'A9_SS_Pr_3', 'A9_SS_Pr_4', 'A9_SS_Pr_6', 'A9_SS_Pr_7']>\n"
     ]
    }
   ],
   "source": [
    "# Load the data in a dictionnary\n",
    "data={'ActivPark': h5py.File('samples/L23_f09_as_PARK.mat','r'), \n",
    "      'SWAPark': h5py.File('samples/L23_f03_swa_PARK.mat','r'), \n",
    "     'ActivCtl': h5py.File('samples/A9_c05_as_CTL.mat','r'), \n",
    "     'SWACtl': h5py.File('samples/A9_c01_swa_CTL.mat','r')}\n",
    "\n",
    "# Look at the variable names in each data file\n",
    "for key,value in data.items():\n",
    "    print(key)\n",
    "    print(data[key].keys())"
   ]
  },
  {
   "cell_type": "code",
   "execution_count": 4,
   "id": "73bd77ed",
   "metadata": {
    "ExecuteTime": {
     "end_time": "2023-10-19T15:49:14.670684600Z",
     "start_time": "2023-10-19T15:49:14.582922900Z"
    }
   },
   "outputs": [
    {
     "data": {
      "text/plain": "{'comment': <HDF5 dataset \"comment\": shape (33, 1), type \"<u2\">,\n 'length': <HDF5 dataset \"length\": shape (1, 1), type \"<f8\">,\n 'resolution': <HDF5 dataset \"resolution\": shape (1, 1), type \"<f8\">,\n 'times': <HDF5 dataset \"times\": shape (1, 725), type \"<f8\">,\n 'title': <HDF5 dataset \"title\": shape (8, 1), type \"<u2\">}"
     },
     "execution_count": 4,
     "metadata": {},
     "output_type": "execute_result"
    }
   ],
   "source": [
    "# Look up variable in a specific dataset\n",
    "dict(data['ActivPark']['L23_Pr20_c09'])"
   ]
  },
  {
   "cell_type": "code",
   "execution_count": 5,
   "id": "12807aaf",
   "metadata": {
    "ExecuteTime": {
     "end_time": "2023-10-19T15:49:15.819293800Z",
     "start_time": "2023-10-19T15:49:15.722204100Z"
    }
   },
   "outputs": [
    {
     "data": {
      "text/plain": "{'comment': <HDF5 dataset \"comment\": shape (10, 1), type \"<u2\">,\n 'interval': <HDF5 dataset \"interval\": shape (1, 1), type \"<f8\">,\n 'length': <HDF5 dataset \"length\": shape (1, 1), type \"<f8\">,\n 'offset': <HDF5 dataset \"offset\": shape (1, 1), type \"<f8\">,\n 'scale': <HDF5 dataset \"scale\": shape (1, 1), type \"<f8\">,\n 'start': <HDF5 dataset \"start\": shape (1, 1), type \"<f8\">,\n 'title': <HDF5 dataset \"title\": shape (7, 1), type \"<u2\">,\n 'units': <HDF5 dataset \"units\": shape (2, 1), type \"<u2\">,\n 'values': <HDF5 dataset \"values\": shape (1, 35715), type \"<f8\">}"
     },
     "execution_count": 5,
     "metadata": {},
     "output_type": "execute_result"
    }
   ],
   "source": [
    "# Select a few datasets to work with: EEG and 3 spike trains from parkinsonian animals in 'activated state'\n",
    "EEG=data['ActivPark']['L23_EEGipsi']\n",
    "ST1=data['ActivPark']['L23_Pr20_c09']\n",
    "ST2=data['ActivPark']['L23_Pr20_c0A']\n",
    "ST3=data['ActivPark']['L23_Pr20_c0B']\n",
    "dict(EEG)"
   ]
  },
  {
   "cell_type": "code",
   "execution_count": null,
   "id": "3ac270c6",
   "metadata": {},
   "outputs": [],
   "source": [
    "# Find the number of sampling points in EEG trace (EEG[values])\n"
   ]
  },
  {
   "cell_type": "code",
   "execution_count": null,
   "id": "dd4177c5",
   "metadata": {},
   "outputs": [],
   "source": [
    "# Find the duration of the recording as number of points time sampling interval (EEG[interval])\n"
   ]
  },
  {
   "cell_type": "code",
   "execution_count": null,
   "id": "477f0a14",
   "metadata": {},
   "outputs": [],
   "source": [
    "# Look up the 1000 first points in EEG trace\n",
    "\n"
   ]
  },
  {
   "cell_type": "code",
   "execution_count": null,
   "id": "a7ac1f5e",
   "metadata": {},
   "outputs": [],
   "source": [
    "# Compute the spectral power density histogram (spectrum) of the EEG trace using scipy.signal.welch\n"
   ]
  },
  {
   "cell_type": "code",
   "execution_count": null,
   "id": "66cee98f",
   "metadata": {},
   "outputs": [],
   "source": [
    "# Look up spike times for the two spike trains\n"
   ]
  },
  {
   "cell_type": "code",
   "execution_count": null,
   "id": "612d83d9",
   "metadata": {},
   "outputs": [],
   "source": [
    "# Make an instantaneous firing rate in bins of 1 ms using the function np.histogram\n"
   ]
  },
  {
   "cell_type": "code",
   "execution_count": null,
   "id": "7f6977f4",
   "metadata": {},
   "outputs": [],
   "source": [
    "# Plot the crosscorrelogram of instantaneous firing rate (IFR) of spike train 1 and IFR of spike train 2 for delays from -250ms to +250ms\n"
   ]
  },
  {
   "cell_type": "code",
   "execution_count": null,
   "id": "e028d57a",
   "metadata": {},
   "outputs": [],
   "source": [
    "# Smooth the crosscorrelogram of instantaneous firing rate (IFR) of spike train 1 and IFR of spike train 2 \n",
    "# and plot for delays from -50ms to +50ms\n"
   ]
  },
  {
   "cell_type": "code",
   "execution_count": null,
   "id": "d76bcc40",
   "metadata": {},
   "outputs": [],
   "source": [
    "# Repeat the same procedure (cells 11 and 12) for spike trains 2 and 3\n"
   ]
  },
  {
   "cell_type": "code",
   "execution_count": null,
   "id": "cb4829fc",
   "metadata": {},
   "outputs": [],
   "source": []
  },
  {
   "cell_type": "code",
   "execution_count": null,
   "id": "85eb2e85",
   "metadata": {},
   "outputs": [],
   "source": [
    "# Repeat the procedure (cell 11 and 12) for all pairs of spike trains recorded in this file (ActivPark)\n",
    "# To this end, you may use the 'keys' of the dataset, corresponding to the various signals recorded simultaneously. \n",
    "# Note that the first 3 signals correspond to EEG or filtered EEG and will not be considered here. All other \n",
    "# recorded signals are spike trains \n",
    "\n",
    "keys=list(data['ActivPark'].keys())\n",
    "print(keys, len(keys))\n"
   ]
  },
  {
   "cell_type": "code",
   "execution_count": null,
   "id": "31b089ec",
   "metadata": {},
   "outputs": [],
   "source": [
    "# Look at the coherence between instantaneous firing rate (IFR) of spike train 1 and IFR of spike train 2 with function scipy.signal.coherence\n",
    "\n",
    "# Plot a vertical line at maximal coherence and get the corresponding frequency using the function plt.axvline\n"
   ]
  },
  {
   "cell_type": "code",
   "execution_count": null,
   "id": "6028be1b",
   "metadata": {},
   "outputs": [],
   "source": [
    "# We now want to compute the coherence between the EEG and the firing rates of single spike trains. \n",
    "# However, the coherence needs to be computed on signals that have the same sampling interval/rate\n",
    "\n",
    "# First step: Recompute the IFR for a time bin similar to EEG sampling interval\n",
    "# Second step: Look at the coherence between instantaneous firing rate (IFR) of spike train 1 and IFR of spike train 2 with new time bin\n",
    "# This coherence can compared to the one computed in cell 13.\n",
    "\n",
    "\n",
    "# Plot a vertical line at maximal coherence and get the corresponding frequency\n"
   ]
  },
  {
   "cell_type": "code",
   "execution_count": null,
   "id": "930add05",
   "metadata": {},
   "outputs": [],
   "source": [
    "# Now we can compute the coherence between instantaneous firing rate (IFR) of a spike train and the EEG\n",
    "\n",
    "\n",
    "# Plot a vertical line at maximal coherence and get the corresponding frequency\n"
   ]
  },
  {
   "cell_type": "code",
   "execution_count": null,
   "id": "f99a5733",
   "metadata": {},
   "outputs": [],
   "source": [
    "# Let's now look up a file with SWA activity in the cortex, and plot the 5 first seconds of this EEG\n",
    "EEG=data['SWAPark']['L23_EEGipsi']\n",
    "EEG_data=EEG['values'][0]\n",
    "EEG_interval=EEG['interval'][0]\n",
    "print(1/EEG_interval)\n",
    "\n",
    "plt.plot(EEG_data[:int(5/EEG_interval)]);"
   ]
  },
  {
   "cell_type": "code",
   "execution_count": null,
   "id": "ee6345e9",
   "metadata": {},
   "outputs": [],
   "source": [
    "# Build a band pass filter with [0.5 1.5] Hz band for EEG using scipy.signal.butter\n"
   ]
  },
  {
   "cell_type": "code",
   "execution_count": null,
   "id": "22c9a094",
   "metadata": {},
   "outputs": [],
   "source": [
    "# Filter EEG with scipy.signal.filtfilt using the filter built in cell 18, and plot first 5 s of filtered EEG\n"
   ]
  },
  {
   "cell_type": "code",
   "execution_count": null,
   "id": "8a5d3dda",
   "metadata": {},
   "outputs": [],
   "source": [
    "# Load one spike train and the EEG values and sampling interval from the SWAPark file\n",
    "ST1=data['SWAPark']['L23_Pr20_c09'] \n",
    "ST1_times=ST1['times'][0]\n",
    "print(len(ST1_times))\n",
    "\n",
    "EEG=data['SWAPark']['L23_EEGipsi']\n",
    "EEG_data=EEG['values'][0]\n",
    "EEG_interval=EEG['interval'][0]\n",
    "\n",
    "\n",
    "# Compute the spike-triggered average of the EEG trace with the first spike train\n",
    "\n",
    "windowsec=2; windowint=windowsec/EEG_interval; \n",
    "t=np.arange(-windowsec/2,windowsec/2-EEG_interval,EEG_interval)\n",
    "STA=np.zeros(int(windowint))\n",
    "i1=np.argmin(np.abs(ST1_times-windowsec))\n",
    "i2=np.argmin(np.abs(ST1_times-(len(EEG_data)*EEG_interval-windowsec)))\n",
    "print(ST1_times[i1])\n",
    "print(ST1_times[i2])\n",
    "for i in range(i1,i2):\n",
    "    STA += EEG_data[int(ST1_times[i+1]/EEG_interval)-int(windowint/2)-1:int(ST1_times[i+1]/EEG_interval)+int(windowint/2)]\n",
    "\n",
    "STA=STA/(len(ST1_times)-2)\n",
    "STA=STA-np.mean(STA)\n",
    "plt.plot(t,STA);\n",
    "\n",
    "# Value of the spike-triggered average at 0 time lag\n",
    "print(STA[int(windowint/2)])\n"
   ]
  },
  {
   "cell_type": "code",
   "execution_count": null,
   "id": "e4a4b0a6",
   "metadata": {},
   "outputs": [],
   "source": [
    "# Compute and plot the spike-triggered averages of the EEG with respect to all spike trains recorded in this SWAPark file\n",
    "# You may use the keys of the data['SWAPark'] data set\n",
    "# Save the value of the spike-triggered average at 0 time lag for all considered spike trains\n"
   ]
  },
  {
   "cell_type": "code",
   "execution_count": null,
   "id": "c8b878d5",
   "metadata": {},
   "outputs": [],
   "source": [
    "# For each spike train in the data set, compute the mean firing rate \n",
    "\n",
    "# Plot the mean firing rate of the spike trains vs the value of the spike-triggered average at 0 time lag"
   ]
  },
  {
   "cell_type": "code",
   "execution_count": null,
   "id": "2611e4fd",
   "metadata": {},
   "outputs": [],
   "source": []
  }
 ],
 "metadata": {
  "kernelspec": {
   "display_name": "Python 3 (ipykernel)",
   "language": "python",
   "name": "python3"
  },
  "language_info": {
   "codemirror_mode": {
    "name": "ipython",
    "version": 3
   },
   "file_extension": ".py",
   "mimetype": "text/x-python",
   "name": "python",
   "nbconvert_exporter": "python",
   "pygments_lexer": "ipython3",
   "version": "3.11.4"
  }
 },
 "nbformat": 4,
 "nbformat_minor": 5
}
